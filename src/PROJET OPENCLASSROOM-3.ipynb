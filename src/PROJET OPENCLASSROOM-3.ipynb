{
 "cells": [
  {
   "cell_type": "code",
   "execution_count": 61,
   "id": "e8aa97bf",
   "metadata": {},
   "outputs": [],
   "source": [
    "import pandas as pd\n",
    "import numpy as np\n",
    "import matplotlib.pyplot as plt\n",
    "import seaborn as sns\n",
    "import datetime as datetime\n",
    "\n",
    "# Je commence par importer toutes les librairies qui pourraient me servir dans mes analyses."
   ]
  },
  {
   "cell_type": "code",
   "execution_count": 148,
   "id": "a2b1ec8a",
   "metadata": {},
   "outputs": [
    {
     "data": {
      "text/html": [
       "<div>\n",
       "<style scoped>\n",
       "    .dataframe tbody tr th:only-of-type {\n",
       "        vertical-align: middle;\n",
       "    }\n",
       "\n",
       "    .dataframe tbody tr th {\n",
       "        vertical-align: top;\n",
       "    }\n",
       "\n",
       "    .dataframe thead th {\n",
       "        text-align: right;\n",
       "    }\n",
       "</style>\n",
       "<table border=\"1\" class=\"dataframe\">\n",
       "  <thead>\n",
       "    <tr style=\"text-align: right;\">\n",
       "      <th></th>\n",
       "      <th>Date de relevé de l'index</th>\n",
       "      <th>Type d'index</th>\n",
       "      <th>Index Heures creuses (kWh)</th>\n",
       "      <th>Index Heures pleines (kWh)</th>\n",
       "      <th>Conso_hc</th>\n",
       "      <th>Conso_hp</th>\n",
       "    </tr>\n",
       "  </thead>\n",
       "  <tbody>\n",
       "    <tr>\n",
       "      <th>491</th>\n",
       "      <td>24/08/21</td>\n",
       "      <td>Index transmis par le distributeur</td>\n",
       "      <td>332</td>\n",
       "      <td>211</td>\n",
       "      <td>77</td>\n",
       "      <td>49</td>\n",
       "    </tr>\n",
       "    <tr>\n",
       "      <th>492</th>\n",
       "      <td>12/08/21</td>\n",
       "      <td>Index transmis par le distributeur</td>\n",
       "      <td>255</td>\n",
       "      <td>162</td>\n",
       "      <td>212</td>\n",
       "      <td>130</td>\n",
       "    </tr>\n",
       "    <tr>\n",
       "      <th>493</th>\n",
       "      <td>12/07/21</td>\n",
       "      <td>Index transmis par le distributeur</td>\n",
       "      <td>43</td>\n",
       "      <td>32</td>\n",
       "      <td>24</td>\n",
       "      <td>13</td>\n",
       "    </tr>\n",
       "    <tr>\n",
       "      <th>494</th>\n",
       "      <td>09/07/21</td>\n",
       "      <td>Index transmis par le distributeur</td>\n",
       "      <td>19</td>\n",
       "      <td>19</td>\n",
       "      <td>19</td>\n",
       "      <td>19</td>\n",
       "    </tr>\n",
       "    <tr>\n",
       "      <th>495</th>\n",
       "      <td>06/07/21</td>\n",
       "      <td>Index transmis par le distributeur</td>\n",
       "      <td>0</td>\n",
       "      <td>0</td>\n",
       "      <td>0</td>\n",
       "      <td>0</td>\n",
       "    </tr>\n",
       "  </tbody>\n",
       "</table>\n",
       "</div>"
      ],
      "text/plain": [
       "    Date de relevé de l'index                        Type d'index  \\\n",
       "491                  24/08/21  Index transmis par le distributeur   \n",
       "492                  12/08/21  Index transmis par le distributeur   \n",
       "493                  12/07/21  Index transmis par le distributeur   \n",
       "494                  09/07/21  Index transmis par le distributeur   \n",
       "495                  06/07/21  Index transmis par le distributeur   \n",
       "\n",
       "     Index Heures creuses (kWh)  Index Heures pleines (kWh)  Conso_hc  \\\n",
       "491                         332                         211        77   \n",
       "492                         255                         162       212   \n",
       "493                          43                          32        24   \n",
       "494                          19                          19        19   \n",
       "495                           0                           0         0   \n",
       "\n",
       "     Conso_hp  \n",
       "491        49  \n",
       "492       130  \n",
       "493        13  \n",
       "494        19  \n",
       "495         0  "
      ]
     },
     "execution_count": 148,
     "metadata": {},
     "output_type": "execute_result"
    }
   ],
   "source": [
    "data=pd.read_csv(\"conso_edf.csv\", encoding=\"utf-8\")\n",
    "data.tail()\n",
    "# J'ai tout d'abord converti mon fichier EDF numbers en fichier csv avec virgule pour une bonne lecture des colonnes."
   ]
  },
  {
   "cell_type": "code",
   "execution_count": 63,
   "id": "0c76e896",
   "metadata": {},
   "outputs": [
    {
     "data": {
      "text/plain": [
       "(496, 6)"
      ]
     },
     "execution_count": 63,
     "metadata": {},
     "output_type": "execute_result"
    }
   ],
   "source": [
    "data.shape\n",
    "# On peut constater qu'il y a 503 lignes et 4 colonnes."
   ]
  },
  {
   "cell_type": "code",
   "execution_count": 64,
   "id": "a3b8d566",
   "metadata": {},
   "outputs": [
    {
     "name": "stdout",
     "output_type": "stream",
     "text": [
      "<class 'pandas.core.frame.DataFrame'>\n",
      "RangeIndex: 496 entries, 0 to 495\n",
      "Data columns (total 7 columns):\n",
      " #   Column                      Non-Null Count  Dtype         \n",
      "---  ------                      --------------  -----         \n",
      " 0   Date de relevé de l'index   496 non-null    object        \n",
      " 1   Type d'index                496 non-null    object        \n",
      " 2   Index Heures creuses (kWh)  496 non-null    int64         \n",
      " 3   Index Heures pleines (kWh)  496 non-null    int64         \n",
      " 4   Conso_hc                    496 non-null    int64         \n",
      " 5   Conso_hp                    496 non-null    int64         \n",
      " 6   date_conso                  496 non-null    datetime64[ns]\n",
      "dtypes: datetime64[ns](1), int64(4), object(2)\n",
      "memory usage: 27.2+ KB\n"
     ]
    }
   ],
   "source": [
    "data[\"date_conso\"]=data[\"Date de relevé de l'index\"]\n",
    "data[\"date_conso\"]=pd.to_datetime(data[\"date_conso\"])\n",
    "data.info()\n",
    "# 1)Le premier reflexe est de vérifier que toutes les variables sont importées dans le bon type.\n",
    "# Dans le cas présent, on peut voir que Date de consommation est de type object et non pas de type date."
   ]
  },
  {
   "cell_type": "code",
   "execution_count": 65,
   "id": "d43fa61f",
   "metadata": {},
   "outputs": [
    {
     "data": {
      "text/plain": [
       "Date de relevé de l'index     0\n",
       "Type d'index                  0\n",
       "Index Heures creuses (kWh)    0\n",
       "Index Heures pleines (kWh)    0\n",
       "Conso_hc                      0\n",
       "Conso_hp                      0\n",
       "date_conso                    0\n",
       "dtype: int64"
      ]
     },
     "execution_count": 65,
     "metadata": {},
     "output_type": "execute_result"
    }
   ],
   "source": [
    "data.isnull().sum()\n",
    "# 2)On remarque qu'il n'y a pas de valeurs manquantes."
   ]
  },
  {
   "cell_type": "code",
   "execution_count": 66,
   "id": "69bd653f",
   "metadata": {},
   "outputs": [
    {
     "data": {
      "text/html": [
       "<div>\n",
       "<style scoped>\n",
       "    .dataframe tbody tr th:only-of-type {\n",
       "        vertical-align: middle;\n",
       "    }\n",
       "\n",
       "    .dataframe tbody tr th {\n",
       "        vertical-align: top;\n",
       "    }\n",
       "\n",
       "    .dataframe thead th {\n",
       "        text-align: right;\n",
       "    }\n",
       "</style>\n",
       "<table border=\"1\" class=\"dataframe\">\n",
       "  <thead>\n",
       "    <tr style=\"text-align: right;\">\n",
       "      <th></th>\n",
       "      <th>Date de relevé de l'index</th>\n",
       "      <th>Type d'index</th>\n",
       "      <th>Index Heures creuses (kWh)</th>\n",
       "      <th>Index Heures pleines (kWh)</th>\n",
       "      <th>Conso_hc</th>\n",
       "      <th>Conso_hp</th>\n",
       "      <th>date_conso</th>\n",
       "    </tr>\n",
       "  </thead>\n",
       "  <tbody>\n",
       "  </tbody>\n",
       "</table>\n",
       "</div>"
      ],
      "text/plain": [
       "Empty DataFrame\n",
       "Columns: [Date de relevé de l'index, Type d'index, Index Heures creuses (kWh), Index Heures pleines (kWh), Conso_hc, Conso_hp, date_conso]\n",
       "Index: []"
      ]
     },
     "execution_count": 66,
     "metadata": {},
     "output_type": "execute_result"
    }
   ],
   "source": [
    "data.loc[data[[\"Date de relevé de l'index\", \"Type d'index\", \"Index Heures creuses (kWh)\", \"Index Heures pleines (kWh)\", \"Conso_hc\", \"Conso_hp\"]].duplicated(keep=False),:]\n",
    "# 3)On remarque qu\"il y a deux lignes qui se repètent et de même date avec les mêmes données. On constate qu'il y a donc un doublon."
   ]
  },
  {
   "cell_type": "code",
   "execution_count": 67,
   "id": "a862add6",
   "metadata": {},
   "outputs": [],
   "source": [
    "data.drop_duplicates(subset=[\"Date de relevé de l'index\", \"Type d'index\", \"Index Heures creuses (kWh)\", \"Index Heures pleines (kWh)\"], inplace=True, ignore_index=True)\n",
    "# Dans le cas où l'on aurait vu un ou plusieurs doublons, nous aurions pu supprimer les lignes de cette manière."
   ]
  },
  {
   "cell_type": "code",
   "execution_count": 68,
   "id": "d05fb26f",
   "metadata": {},
   "outputs": [
    {
     "data": {
      "text/html": [
       "<div>\n",
       "<style scoped>\n",
       "    .dataframe tbody tr th:only-of-type {\n",
       "        vertical-align: middle;\n",
       "    }\n",
       "\n",
       "    .dataframe tbody tr th {\n",
       "        vertical-align: top;\n",
       "    }\n",
       "\n",
       "    .dataframe thead th {\n",
       "        text-align: right;\n",
       "    }\n",
       "</style>\n",
       "<table border=\"1\" class=\"dataframe\">\n",
       "  <thead>\n",
       "    <tr style=\"text-align: right;\">\n",
       "      <th></th>\n",
       "      <th>Date de relevé de l'index</th>\n",
       "      <th>Type d'index</th>\n",
       "      <th>Index Heures creuses (kWh)</th>\n",
       "      <th>Index Heures pleines (kWh)</th>\n",
       "      <th>Conso_hc</th>\n",
       "      <th>Conso_hp</th>\n",
       "      <th>date_conso</th>\n",
       "    </tr>\n",
       "  </thead>\n",
       "  <tbody>\n",
       "  </tbody>\n",
       "</table>\n",
       "</div>"
      ],
      "text/plain": [
       "Empty DataFrame\n",
       "Columns: [Date de relevé de l'index, Type d'index, Index Heures creuses (kWh), Index Heures pleines (kWh), Conso_hc, Conso_hp, date_conso]\n",
       "Index: []"
      ]
     },
     "execution_count": 68,
     "metadata": {},
     "output_type": "execute_result"
    }
   ],
   "source": [
    "data.loc[data[[\"Date de relevé de l'index\", \"Type d'index\", \"Index Heures creuses (kWh)\", \"Index Heures pleines (kWh)\"]].duplicated(keep=False),:]\n",
    "# Puis on aurait vérifié si l'opération a bien fonctionné."
   ]
  },
  {
   "cell_type": "code",
   "execution_count": 69,
   "id": "61c7cfdf",
   "metadata": {},
   "outputs": [
    {
     "name": "stderr",
     "output_type": "stream",
     "text": [
      "/var/folders/3s/xg7vwwgn7jsfxf0m11v5gy7h0000gn/T/ipykernel_7394/1976001467.py:1: FutureWarning: Treating datetime data as categorical rather than numeric in `.describe` is deprecated and will be removed in a future version of pandas. Specify `datetime_is_numeric=True` to silence this warning and adopt the future behavior now.\n",
      "  data.describe(include=\"all\")\n"
     ]
    },
    {
     "data": {
      "text/html": [
       "<div>\n",
       "<style scoped>\n",
       "    .dataframe tbody tr th:only-of-type {\n",
       "        vertical-align: middle;\n",
       "    }\n",
       "\n",
       "    .dataframe tbody tr th {\n",
       "        vertical-align: top;\n",
       "    }\n",
       "\n",
       "    .dataframe thead th {\n",
       "        text-align: right;\n",
       "    }\n",
       "</style>\n",
       "<table border=\"1\" class=\"dataframe\">\n",
       "  <thead>\n",
       "    <tr style=\"text-align: right;\">\n",
       "      <th></th>\n",
       "      <th>Date de relevé de l'index</th>\n",
       "      <th>Type d'index</th>\n",
       "      <th>Index Heures creuses (kWh)</th>\n",
       "      <th>Index Heures pleines (kWh)</th>\n",
       "      <th>Conso_hc</th>\n",
       "      <th>Conso_hp</th>\n",
       "      <th>date_conso</th>\n",
       "    </tr>\n",
       "  </thead>\n",
       "  <tbody>\n",
       "    <tr>\n",
       "      <th>count</th>\n",
       "      <td>496</td>\n",
       "      <td>496</td>\n",
       "      <td>496.000000</td>\n",
       "      <td>496.000000</td>\n",
       "      <td>496.000000</td>\n",
       "      <td>496.000000</td>\n",
       "      <td>496</td>\n",
       "    </tr>\n",
       "    <tr>\n",
       "      <th>unique</th>\n",
       "      <td>495</td>\n",
       "      <td>1</td>\n",
       "      <td>NaN</td>\n",
       "      <td>NaN</td>\n",
       "      <td>NaN</td>\n",
       "      <td>NaN</td>\n",
       "      <td>495</td>\n",
       "    </tr>\n",
       "    <tr>\n",
       "      <th>top</th>\n",
       "      <td>30/10/22</td>\n",
       "      <td>Index transmis par le distributeur</td>\n",
       "      <td>NaN</td>\n",
       "      <td>NaN</td>\n",
       "      <td>NaN</td>\n",
       "      <td>NaN</td>\n",
       "      <td>2022-10-30 00:00:00</td>\n",
       "    </tr>\n",
       "    <tr>\n",
       "      <th>freq</th>\n",
       "      <td>2</td>\n",
       "      <td>496</td>\n",
       "      <td>NaN</td>\n",
       "      <td>NaN</td>\n",
       "      <td>NaN</td>\n",
       "      <td>NaN</td>\n",
       "      <td>2</td>\n",
       "    </tr>\n",
       "    <tr>\n",
       "      <th>first</th>\n",
       "      <td>NaN</td>\n",
       "      <td>NaN</td>\n",
       "      <td>NaN</td>\n",
       "      <td>NaN</td>\n",
       "      <td>NaN</td>\n",
       "      <td>NaN</td>\n",
       "      <td>2021-01-09 00:00:00</td>\n",
       "    </tr>\n",
       "    <tr>\n",
       "      <th>last</th>\n",
       "      <td>NaN</td>\n",
       "      <td>NaN</td>\n",
       "      <td>NaN</td>\n",
       "      <td>NaN</td>\n",
       "      <td>NaN</td>\n",
       "      <td>NaN</td>\n",
       "      <td>2022-12-31 00:00:00</td>\n",
       "    </tr>\n",
       "    <tr>\n",
       "      <th>mean</th>\n",
       "      <td>NaN</td>\n",
       "      <td>NaN</td>\n",
       "      <td>2112.618952</td>\n",
       "      <td>1271.584677</td>\n",
       "      <td>7.651210</td>\n",
       "      <td>4.665323</td>\n",
       "      <td>NaN</td>\n",
       "    </tr>\n",
       "    <tr>\n",
       "      <th>std</th>\n",
       "      <td>NaN</td>\n",
       "      <td>NaN</td>\n",
       "      <td>1016.895433</td>\n",
       "      <td>621.699870</td>\n",
       "      <td>9.996227</td>\n",
       "      <td>6.207269</td>\n",
       "      <td>NaN</td>\n",
       "    </tr>\n",
       "    <tr>\n",
       "      <th>min</th>\n",
       "      <td>NaN</td>\n",
       "      <td>NaN</td>\n",
       "      <td>0.000000</td>\n",
       "      <td>0.000000</td>\n",
       "      <td>0.000000</td>\n",
       "      <td>0.000000</td>\n",
       "      <td>NaN</td>\n",
       "    </tr>\n",
       "    <tr>\n",
       "      <th>25%</th>\n",
       "      <td>NaN</td>\n",
       "      <td>NaN</td>\n",
       "      <td>1223.500000</td>\n",
       "      <td>716.250000</td>\n",
       "      <td>6.000000</td>\n",
       "      <td>3.000000</td>\n",
       "      <td>NaN</td>\n",
       "    </tr>\n",
       "    <tr>\n",
       "      <th>50%</th>\n",
       "      <td>NaN</td>\n",
       "      <td>NaN</td>\n",
       "      <td>2217.500000</td>\n",
       "      <td>1367.000000</td>\n",
       "      <td>7.000000</td>\n",
       "      <td>4.000000</td>\n",
       "      <td>NaN</td>\n",
       "    </tr>\n",
       "    <tr>\n",
       "      <th>75%</th>\n",
       "      <td>NaN</td>\n",
       "      <td>NaN</td>\n",
       "      <td>3007.250000</td>\n",
       "      <td>1809.000000</td>\n",
       "      <td>8.000000</td>\n",
       "      <td>5.000000</td>\n",
       "      <td>NaN</td>\n",
       "    </tr>\n",
       "    <tr>\n",
       "      <th>max</th>\n",
       "      <td>NaN</td>\n",
       "      <td>NaN</td>\n",
       "      <td>3795.000000</td>\n",
       "      <td>2314.000000</td>\n",
       "      <td>212.000000</td>\n",
       "      <td>130.000000</td>\n",
       "      <td>NaN</td>\n",
       "    </tr>\n",
       "  </tbody>\n",
       "</table>\n",
       "</div>"
      ],
      "text/plain": [
       "       Date de relevé de l'index                        Type d'index  \\\n",
       "count                        496                                 496   \n",
       "unique                       495                                   1   \n",
       "top                     30/10/22  Index transmis par le distributeur   \n",
       "freq                           2                                 496   \n",
       "first                        NaN                                 NaN   \n",
       "last                         NaN                                 NaN   \n",
       "mean                         NaN                                 NaN   \n",
       "std                          NaN                                 NaN   \n",
       "min                          NaN                                 NaN   \n",
       "25%                          NaN                                 NaN   \n",
       "50%                          NaN                                 NaN   \n",
       "75%                          NaN                                 NaN   \n",
       "max                          NaN                                 NaN   \n",
       "\n",
       "        Index Heures creuses (kWh)  Index Heures pleines (kWh)    Conso_hc  \\\n",
       "count                   496.000000                  496.000000  496.000000   \n",
       "unique                         NaN                         NaN         NaN   \n",
       "top                            NaN                         NaN         NaN   \n",
       "freq                           NaN                         NaN         NaN   \n",
       "first                          NaN                         NaN         NaN   \n",
       "last                           NaN                         NaN         NaN   \n",
       "mean                   2112.618952                 1271.584677    7.651210   \n",
       "std                    1016.895433                  621.699870    9.996227   \n",
       "min                       0.000000                    0.000000    0.000000   \n",
       "25%                    1223.500000                  716.250000    6.000000   \n",
       "50%                    2217.500000                 1367.000000    7.000000   \n",
       "75%                    3007.250000                 1809.000000    8.000000   \n",
       "max                    3795.000000                 2314.000000  212.000000   \n",
       "\n",
       "          Conso_hp           date_conso  \n",
       "count   496.000000                  496  \n",
       "unique         NaN                  495  \n",
       "top            NaN  2022-10-30 00:00:00  \n",
       "freq           NaN                    2  \n",
       "first          NaN  2021-01-09 00:00:00  \n",
       "last           NaN  2022-12-31 00:00:00  \n",
       "mean      4.665323                  NaN  \n",
       "std       6.207269                  NaN  \n",
       "min       0.000000                  NaN  \n",
       "25%       3.000000                  NaN  \n",
       "50%       4.000000                  NaN  \n",
       "75%       5.000000                  NaN  \n",
       "max     130.000000                  NaN  "
      ]
     },
     "execution_count": 69,
     "metadata": {},
     "output_type": "execute_result"
    }
   ],
   "source": [
    "data.describe(include=\"all\")\n",
    "# 4) On peut remarquer plusieurs données incohérentes. Il y a donc des outliers. Notamment le max heures creuses."
   ]
  },
  {
   "cell_type": "code",
   "execution_count": 70,
   "id": "57475006",
   "metadata": {},
   "outputs": [
    {
     "data": {
      "text/html": [
       "<div>\n",
       "<style scoped>\n",
       "    .dataframe tbody tr th:only-of-type {\n",
       "        vertical-align: middle;\n",
       "    }\n",
       "\n",
       "    .dataframe tbody tr th {\n",
       "        vertical-align: top;\n",
       "    }\n",
       "\n",
       "    .dataframe thead th {\n",
       "        text-align: right;\n",
       "    }\n",
       "</style>\n",
       "<table border=\"1\" class=\"dataframe\">\n",
       "  <thead>\n",
       "    <tr style=\"text-align: right;\">\n",
       "      <th></th>\n",
       "      <th>Date de relevé de l'index</th>\n",
       "      <th>Type d'index</th>\n",
       "      <th>Index Heures creuses (kWh)</th>\n",
       "      <th>Index Heures pleines (kWh)</th>\n",
       "      <th>Conso_hc</th>\n",
       "      <th>Conso_hp</th>\n",
       "      <th>date_conso</th>\n",
       "    </tr>\n",
       "  </thead>\n",
       "  <tbody>\n",
       "    <tr>\n",
       "      <th>492</th>\n",
       "      <td>12/08/21</td>\n",
       "      <td>Index transmis par le distributeur</td>\n",
       "      <td>255</td>\n",
       "      <td>162</td>\n",
       "      <td>212</td>\n",
       "      <td>130</td>\n",
       "      <td>2021-12-08</td>\n",
       "    </tr>\n",
       "  </tbody>\n",
       "</table>\n",
       "</div>"
      ],
      "text/plain": [
       "    Date de relevé de l'index                        Type d'index  \\\n",
       "492                  12/08/21  Index transmis par le distributeur   \n",
       "\n",
       "     Index Heures creuses (kWh)  Index Heures pleines (kWh)  Conso_hc  \\\n",
       "492                         255                         162       212   \n",
       "\n",
       "     Conso_hp date_conso  \n",
       "492       130 2021-12-08  "
      ]
     },
     "execution_count": 70,
     "metadata": {},
     "output_type": "execute_result"
    }
   ],
   "source": [
    "data.loc[data['Conso_hc']==data['Conso_hc'].max()]\n"
   ]
  },
  {
   "cell_type": "code",
   "execution_count": 71,
   "id": "8e5fd5fe",
   "metadata": {},
   "outputs": [
    {
     "data": {
      "text/html": [
       "<div>\n",
       "<style scoped>\n",
       "    .dataframe tbody tr th:only-of-type {\n",
       "        vertical-align: middle;\n",
       "    }\n",
       "\n",
       "    .dataframe tbody tr th {\n",
       "        vertical-align: top;\n",
       "    }\n",
       "\n",
       "    .dataframe thead th {\n",
       "        text-align: right;\n",
       "    }\n",
       "</style>\n",
       "<table border=\"1\" class=\"dataframe\">\n",
       "  <thead>\n",
       "    <tr style=\"text-align: right;\">\n",
       "      <th></th>\n",
       "      <th>Date de relevé de l'index</th>\n",
       "      <th>Type d'index</th>\n",
       "      <th>Index Heures creuses (kWh)</th>\n",
       "      <th>Index Heures pleines (kWh)</th>\n",
       "      <th>Conso_hc</th>\n",
       "      <th>Conso_hp</th>\n",
       "      <th>date_conso</th>\n",
       "    </tr>\n",
       "  </thead>\n",
       "  <tbody>\n",
       "    <tr>\n",
       "      <th>492</th>\n",
       "      <td>12/08/21</td>\n",
       "      <td>Index transmis par le distributeur</td>\n",
       "      <td>255</td>\n",
       "      <td>162</td>\n",
       "      <td>212</td>\n",
       "      <td>130</td>\n",
       "      <td>2021-12-08</td>\n",
       "    </tr>\n",
       "  </tbody>\n",
       "</table>\n",
       "</div>"
      ],
      "text/plain": [
       "    Date de relevé de l'index                        Type d'index  \\\n",
       "492                  12/08/21  Index transmis par le distributeur   \n",
       "\n",
       "     Index Heures creuses (kWh)  Index Heures pleines (kWh)  Conso_hc  \\\n",
       "492                         255                         162       212   \n",
       "\n",
       "     Conso_hp date_conso  \n",
       "492       130 2021-12-08  "
      ]
     },
     "execution_count": 71,
     "metadata": {},
     "output_type": "execute_result"
    }
   ],
   "source": [
    "data.loc[data['Conso_hp']==data['Conso_hp'].max()]"
   ]
  },
  {
   "cell_type": "code",
   "execution_count": 72,
   "id": "2ddb66e8",
   "metadata": {},
   "outputs": [],
   "source": [
    "# Retrouver l'index de l'outlier HC."
   ]
  },
  {
   "cell_type": "markdown",
   "id": "963faff8",
   "metadata": {},
   "source": [
    "L'analyse univariée. Voici les 3 mesures de tendance centrale :"
   ]
  },
  {
   "cell_type": "code",
   "execution_count": 73,
   "id": "276677a2",
   "metadata": {},
   "outputs": [
    {
     "data": {
      "text/plain": [
       "0    3\n",
       "Name: Conso_hp, dtype: int64"
      ]
     },
     "execution_count": 73,
     "metadata": {},
     "output_type": "execute_result"
    }
   ],
   "source": [
    "data[\"Conso_hc\"].mode()\n",
    "data[\"Conso_hp\"].mode()"
   ]
  },
  {
   "cell_type": "code",
   "execution_count": 74,
   "id": "9afd5e60",
   "metadata": {},
   "outputs": [
    {
     "name": "stdout",
     "output_type": "stream",
     "text": [
      "4.665322580645161\n",
      "7.651209677419355\n"
     ]
    }
   ],
   "source": [
    "Moy_HP=data[\"Conso_hp\"].mean()\n",
    "print(Moy_HP)\n",
    "# Ici on a calculé la moyenne de consommation kWh durant les heures pleines.\n",
    "\n",
    "Moy_HC=data[\"Conso_hc\"].mean()\n",
    "print(Moy_HC)\n",
    "# Ici on a calculé la moyenne de consommation kWh durant les heures creuses."
   ]
  },
  {
   "cell_type": "code",
   "execution_count": 75,
   "id": "5584ede7",
   "metadata": {},
   "outputs": [
    {
     "name": "stdout",
     "output_type": "stream",
     "text": [
      "4.0\n",
      "7.0\n"
     ]
    }
   ],
   "source": [
    "Med_HP=data[\"Conso_hp\"].median()\n",
    "print(Med_HP)\n",
    "\n",
    "Med_HC=data[\"Conso_hc\"].median()\n",
    "print(Med_HC)\n",
    "\n"
   ]
  },
  {
   "cell_type": "markdown",
   "id": "38322cc9",
   "metadata": {},
   "source": [
    "Les mesures de dispersion :"
   ]
  },
  {
   "cell_type": "code",
   "execution_count": 28,
   "id": "ea2351a0",
   "metadata": {},
   "outputs": [
    {
     "data": {
      "text/plain": [
       "38.530188986640596"
      ]
     },
     "execution_count": 28,
     "metadata": {},
     "output_type": "execute_result"
    }
   ],
   "source": [
    "data[\"Conso_hp\"].var()\n",
    "# Ici nous avons calculé la variance empirique sans biais sur l'index des heures pleines."
   ]
  },
  {
   "cell_type": "code",
   "execution_count": 29,
   "id": "744e7720",
   "metadata": {},
   "outputs": [
    {
     "data": {
      "text/plain": [
       "6.207269044164317"
      ]
     },
     "execution_count": 29,
     "metadata": {},
     "output_type": "execute_result"
    }
   ],
   "source": [
    "data[\"Conso_hp\"].std()\n",
    "# Ici nous avons calculé l'écart-type empirique qui est juste la racine carrée de la variance empirique."
   ]
  },
  {
   "cell_type": "code",
   "execution_count": 30,
   "id": "0abe49a3",
   "metadata": {},
   "outputs": [
    {
     "data": {
      "image/png": "[encoded data removed]",
      "text/plain": [
       "<Figure size 640x480 with 1 Axes>"
      ]
     },
     "metadata": {},
     "output_type": "display_data"
    },
    {
     "data": {
      "image/png": "[encoded data removed]",
      "text/plain": [
       "<Figure size 640x480 with 1 Axes>"
      ]
     },
     "metadata": {},
     "output_type": "display_data"
    }
   ],
   "source": [
    "data.boxplot(column=\"Conso_hp\", vert=False)\n",
    "plt.show()\n",
    "\n",
    "data.boxplot(column=\"Conso_hc\", vert=False)\n",
    "plt.show()\n",
    "\n",
    "# Ici nous avons créer une boîte à moustaches permettant d'avoir une vue globale sur la consommation électrique.La ligne verte représente la médiane. Les deux traits noirs représentes les consos min & max et les ronds représentent des outliers. "
   ]
  },
  {
   "cell_type": "code",
   "execution_count": 34,
   "id": "0102b6e4",
   "metadata": {},
   "outputs": [
    {
     "data": {
      "text/html": [
       "<div>\n",
       "<style scoped>\n",
       "    .dataframe tbody tr th:only-of-type {\n",
       "        vertical-align: middle;\n",
       "    }\n",
       "\n",
       "    .dataframe tbody tr th {\n",
       "        vertical-align: top;\n",
       "    }\n",
       "\n",
       "    .dataframe thead th {\n",
       "        text-align: right;\n",
       "    }\n",
       "</style>\n",
       "<table border=\"1\" class=\"dataframe\">\n",
       "  <thead>\n",
       "    <tr style=\"text-align: right;\">\n",
       "      <th></th>\n",
       "      <th>Date de relevé de l'index</th>\n",
       "      <th>Type d'index</th>\n",
       "      <th>Index Heures creuses (kWh)</th>\n",
       "      <th>Index Heures pleines (kWh)</th>\n",
       "      <th>Conso_hc</th>\n",
       "      <th>Conso_hp</th>\n",
       "      <th>date_conso</th>\n",
       "    </tr>\n",
       "  </thead>\n",
       "  <tbody>\n",
       "    <tr>\n",
       "      <th>491</th>\n",
       "      <td>24/08/21</td>\n",
       "      <td>Index transmis par le distributeur</td>\n",
       "      <td>332</td>\n",
       "      <td>211</td>\n",
       "      <td>77</td>\n",
       "      <td>49</td>\n",
       "      <td>2021-08-24</td>\n",
       "    </tr>\n",
       "    <tr>\n",
       "      <th>492</th>\n",
       "      <td>12/08/21</td>\n",
       "      <td>Index transmis par le distributeur</td>\n",
       "      <td>255</td>\n",
       "      <td>162</td>\n",
       "      <td>212</td>\n",
       "      <td>130</td>\n",
       "      <td>2021-12-08</td>\n",
       "    </tr>\n",
       "  </tbody>\n",
       "</table>\n",
       "</div>"
      ],
      "text/plain": [
       "    Date de relevé de l'index                        Type d'index  \\\n",
       "491                  24/08/21  Index transmis par le distributeur   \n",
       "492                  12/08/21  Index transmis par le distributeur   \n",
       "\n",
       "     Index Heures creuses (kWh)  Index Heures pleines (kWh)  Conso_hc  \\\n",
       "491                         332                         211        77   \n",
       "492                         255                         162       212   \n",
       "\n",
       "     Conso_hp date_conso  \n",
       "491        49 2021-08-24  \n",
       "492       130 2021-12-08  "
      ]
     },
     "execution_count": 34,
     "metadata": {},
     "output_type": "execute_result"
    }
   ],
   "source": [
    "data.loc[(data['Conso_hc']>50)|(data['Conso_hp']>40)]"
   ]
  },
  {
   "cell_type": "code",
   "execution_count": null,
   "id": "1281fc3a",
   "metadata": {},
   "outputs": [],
   "source": [
    "#Affichons les outliers visible sur les boxplots"
   ]
  },
  {
   "cell_type": "code",
   "execution_count": 42,
   "id": "1e6c89c0",
   "metadata": {},
   "outputs": [
    {
     "data": {
      "image/png": "[encoded data removed]",
      "text/plain": [
       "<Figure size 640x480 with 1 Axes>"
      ]
     },
     "metadata": {},
     "output_type": "display_data"
    },
    {
     "data": {
      "image/png": "[encoded data removed]",
      "text/plain": [
       "<Figure size 640x480 with 1 Axes>"
      ]
     },
     "metadata": {},
     "output_type": "display_data"
    }
   ],
   "source": [
    "plt.title(\"Distribution empirique des heures pleines(kWh)\")\n",
    "data[\"Conso_hp\"].hist(bins=100)\n",
    "plt.show()\n",
    "\n",
    "plt.title(\"Distribution empirique des heures creuses(kWh)\")\n",
    "data[\"Conso_hc\"].hist(bins=100)\n",
    "plt.show()\n",
    "# Ici nous avons créer une distribution empirique de deux variables : histogramme heures pleines et heures creuses."
   ]
  },
  {
   "cell_type": "code",
   "execution_count": 62,
   "id": "b7ecfa5d",
   "metadata": {},
   "outputs": [
    {
     "data": {
      "text/plain": [
       "17.472704884011495"
      ]
     },
     "execution_count": 62,
     "metadata": {},
     "output_type": "execute_result"
    }
   ],
   "source": [
    "data['Conso_hp'].skew()\n",
    "# j'ai du mal a comprendre ce que ça représente. ça devrait représenter la symétrie d'une distribution de données autour de sa moyenne."
   ]
  },
  {
   "cell_type": "code",
   "execution_count": 63,
   "id": "75cd129b",
   "metadata": {},
   "outputs": [
    {
     "data": {
      "text/plain": [
       "342.27516507876896"
      ]
     },
     "execution_count": 63,
     "metadata": {},
     "output_type": "execute_result"
    }
   ],
   "source": [
    "data['Conso_hp'].kurtosis()\n",
    "# j'ai du mal a comprendre ce que ça représente. ça devrait représenter l'aplatissement mais je comprend pas la logique."
   ]
  },
  {
   "cell_type": "code",
   "execution_count": 76,
   "id": "c75c205c",
   "metadata": {},
   "outputs": [
    {
     "data": {
      "image/png": "[encoded data removed]",
      "text/plain": [
       "<Figure size 640x480 with 1 Axes>"
      ]
     },
     "metadata": {},
     "output_type": "display_data"
    }
   ],
   "source": [
    "plt.title(\"Répartition des consommations électriques\")\n",
    "plt.xlabel(\"Consommation en kWh\")\n",
    "data[\"consommation_totale\"]=data['Conso_hp']+data['Conso_hc']\n",
    "plt.hist(data[\"consommation_totale\"], bins=100)\n",
    "plt.grid(axis=\"y\")\n",
    "plt.show()\n",
    "#Cela nous donne un aperçu de la répartition des consommations."
   ]
  },
  {
   "cell_type": "code",
   "execution_count": 152,
   "id": "cdd41e56",
   "metadata": {},
   "outputs": [],
   "source": [
    "data[\"date_conso\"]=data[\"Date de relevé de l'index\"]\n",
    "data[\"date_conso\"]=pd.to_datetime(data[\"date_conso\"])\n",
    "\n",
    "data.set_index(\"date_conso\", inplace=True)\n",
    "\n",
    "\n",
    "\n"
   ]
  },
  {
   "cell_type": "code",
   "execution_count": 153,
   "id": "73704f16",
   "metadata": {},
   "outputs": [
    {
     "data": {
      "text/html": [
       "<div>\n",
       "<style scoped>\n",
       "    .dataframe tbody tr th:only-of-type {\n",
       "        vertical-align: middle;\n",
       "    }\n",
       "\n",
       "    .dataframe tbody tr th {\n",
       "        vertical-align: top;\n",
       "    }\n",
       "\n",
       "    .dataframe thead th {\n",
       "        text-align: right;\n",
       "    }\n",
       "</style>\n",
       "<table border=\"1\" class=\"dataframe\">\n",
       "  <thead>\n",
       "    <tr style=\"text-align: right;\">\n",
       "      <th></th>\n",
       "      <th>Conso_hc</th>\n",
       "      <th>Conso_hp</th>\n",
       "    </tr>\n",
       "    <tr>\n",
       "      <th>date_conso</th>\n",
       "      <th></th>\n",
       "      <th></th>\n",
       "    </tr>\n",
       "  </thead>\n",
       "  <tbody>\n",
       "    <tr>\n",
       "      <th>2022-12-31</th>\n",
       "      <td>13</td>\n",
       "      <td>6</td>\n",
       "    </tr>\n",
       "    <tr>\n",
       "      <th>2022-12-30</th>\n",
       "      <td>7</td>\n",
       "      <td>5</td>\n",
       "    </tr>\n",
       "    <tr>\n",
       "      <th>2022-12-29</th>\n",
       "      <td>5</td>\n",
       "      <td>6</td>\n",
       "    </tr>\n",
       "    <tr>\n",
       "      <th>2022-12-28</th>\n",
       "      <td>7</td>\n",
       "      <td>5</td>\n",
       "    </tr>\n",
       "    <tr>\n",
       "      <th>2022-12-27</th>\n",
       "      <td>12</td>\n",
       "      <td>5</td>\n",
       "    </tr>\n",
       "    <tr>\n",
       "      <th>...</th>\n",
       "      <td>...</td>\n",
       "      <td>...</td>\n",
       "    </tr>\n",
       "    <tr>\n",
       "      <th>2021-08-24</th>\n",
       "      <td>77</td>\n",
       "      <td>49</td>\n",
       "    </tr>\n",
       "    <tr>\n",
       "      <th>2021-12-08</th>\n",
       "      <td>212</td>\n",
       "      <td>130</td>\n",
       "    </tr>\n",
       "    <tr>\n",
       "      <th>2021-12-07</th>\n",
       "      <td>24</td>\n",
       "      <td>13</td>\n",
       "    </tr>\n",
       "    <tr>\n",
       "      <th>2021-09-07</th>\n",
       "      <td>19</td>\n",
       "      <td>19</td>\n",
       "    </tr>\n",
       "    <tr>\n",
       "      <th>2021-06-07</th>\n",
       "      <td>0</td>\n",
       "      <td>0</td>\n",
       "    </tr>\n",
       "  </tbody>\n",
       "</table>\n",
       "<p>496 rows × 2 columns</p>\n",
       "</div>"
      ],
      "text/plain": [
       "            Conso_hc  Conso_hp\n",
       "date_conso                    \n",
       "2022-12-31        13         6\n",
       "2022-12-30         7         5\n",
       "2022-12-29         5         6\n",
       "2022-12-28         7         5\n",
       "2022-12-27        12         5\n",
       "...              ...       ...\n",
       "2021-08-24        77        49\n",
       "2021-12-08       212       130\n",
       "2021-12-07        24        13\n",
       "2021-09-07        19        19\n",
       "2021-06-07         0         0\n",
       "\n",
       "[496 rows x 2 columns]"
      ]
     },
     "execution_count": 153,
     "metadata": {},
     "output_type": "execute_result"
    }
   ],
   "source": [
    "data[[\"Conso_hc\", \"Conso_hp\"]]\n",
    "\n"
   ]
  },
  {
   "cell_type": "code",
   "execution_count": 158,
   "id": "f3a50a5b",
   "metadata": {},
   "outputs": [
    {
     "data": {
      "image/png": "[encoded data removed]",
      "text/plain": [
       "<Figure size 1000x600 with 1 Axes>"
      ]
     },
     "metadata": {},
     "output_type": "display_data"
    }
   ],
   "source": [
    "data[\"cons_m_hc\"]=data[\"Conso_hc\"].resample(\"MS\").sum()\n",
    "data[\"cons_m_hp\"]=data[\"Conso_hp\"].resample(\"MS\").sum()\n",
    "\n",
    "\n",
    "plt.figure(figsize=(10,6))\n",
    "plt.plot(data.index, data[\"cons_m_hp\"], label=\"Heures Pleines\")\n",
    "plt.plot(data.index, data[\"cons_m_hc\"], label=\"Heures Creuses\")\n",
    "plt.legend(loc=\"upper right\")\n",
    "plt.ylabel(\"consommation kWh\", fontsize=13)\n",
    "plt.grid(axis=\"y\")\n",
    "plt.title(\"La consommation électrique des HC & HP par mois\", fontsize=16, fontname=\"Arial\",fontweight=\"bold\")\n",
    "plt.show()\n",
    "\n",
    "\n",
    "\n"
   ]
  },
  {
   "cell_type": "code",
   "execution_count": 149,
   "id": "fd5f24e5",
   "metadata": {},
   "outputs": [
    {
     "data": {
      "text/plain": [
       "Date de relevé de l'index     object\n",
       "Type d'index                  object\n",
       "Index Heures creuses (kWh)     int64\n",
       "Index Heures pleines (kWh)     int64\n",
       "Conso_hc                       int64\n",
       "Conso_hp                       int64\n",
       "dtype: object"
      ]
     },
     "execution_count": 149,
     "metadata": {},
     "output_type": "execute_result"
    }
   ],
   "source": [
    "data.dtypes"
   ]
  },
  {
   "cell_type": "code",
   "execution_count": 26,
   "id": "2bac3e52",
   "metadata": {},
   "outputs": [
    {
     "name": "stdout",
     "output_type": "stream",
     "text": [
      "    Date de relevé de l'index                        Type d'index  \\\n",
      "493                  24/08/21  Index transmis par le distributeur   \n",
      "494                  12/08/21  Index transmis par le distributeur   \n",
      "495                  12/07/21  Index transmis par le distributeur   \n",
      "496                  09/07/21  Index transmis par le distributeur   \n",
      "497                  06/07/21  Index transmis par le distributeur   \n",
      "\n",
      "     Index Heures creuses (kWh)  Index Heures pleines (kWh)  Conso_hc  \\\n",
      "493                         332                         211        77   \n",
      "494                         255                         162       212   \n",
      "495                          43                          32        24   \n",
      "496                          19                          19        19   \n",
      "497                           0                           0         0   \n",
      "\n",
      "     Conso_hp  consommation_totale  \n",
      "493        49                  126  \n",
      "494       130                  342  \n",
      "495        13                   37  \n",
      "496        19                   38  \n",
      "497         0                    0  \n"
     ]
    }
   ],
   "source": [
    "data.sort_index(inplace=True)\n",
    "#Tri de l'index dans l'ordre croissant\n",
    "print(data.tail())\n",
    "# Permet de voir si il y a des valeurs manquantes. Nous voyons qu'il y en a en fin de tableau."
   ]
  },
  {
   "cell_type": "code",
   "execution_count": 27,
   "id": "f42ef204",
   "metadata": {},
   "outputs": [],
   "source": [
    "data.dropna(inplace=True)\n",
    "#Cette fonction m'a permis de supprimer les lignes ou les valeurs étaient inscrite \"NaN\". \n",
    "#Suite à cela, j'ai pu reéxécuter mon plot et j'ai pu voir les courbes HP et HC au dessus.\n"
   ]
  },
  {
   "cell_type": "code",
   "execution_count": 160,
   "id": "def9bdcd",
   "metadata": {},
   "outputs": [
    {
     "data": {
      "image/png": "[encoded data removed]",
      "text/plain": [
       "<Figure size 1000x700 with 1 Axes>"
      ]
     },
     "metadata": {},
     "output_type": "display_data"
    }
   ],
   "source": [
    "#Essayons de reproduire cela mais sous forme de nuages de points.\n",
    "plt.figure(figsize=(10,7))\n",
    "plt.scatter(data.index,data[\"cons_m_hp\"], label=\"Heures Pleines\")\n",
    "plt.scatter(data.index,data[\"cons_m_hc\"], label=\"Heures Creuses\")\n",
    "plt.legend(loc=\"upper left\")\n",
    "plt.title(\"Consommation HC & HP par mois\", fontweight=\"bold\", fontsize=16, c=\"grey\")\n",
    "plt.grid(axis=\"y\")\n",
    "plt.show()\n",
    "\n"
   ]
  },
  {
   "cell_type": "code",
   "execution_count": 161,
   "id": "59032dc4",
   "metadata": {},
   "outputs": [
    {
     "data": {
      "image/png": "[encoded data removed]",
      "text/plain": [
       "<Figure size 1000x700 with 1 Axes>"
      ]
     },
     "metadata": {},
     "output_type": "display_data"
    }
   ],
   "source": [
    "# Sélectionnez les données pour l'année 2021\n",
    "data_2021 = data.loc[data.index.year == 2021]\n",
    "\n",
    "# Sélectionnez les données pour l'année 2022\n",
    "data_2022 = data.loc[data.index.year == 2022]\n",
    "\n",
    "# Calculer la consommation totale pour chaque année\n",
    "cons_2021 = data[\"Conso_hp\"].resample(\"Y\").sum() + data_2021[\"Conso_hc\"].sum()\n",
    "cons_2022 = data_2022[\"Conso_hp\"].sum() + data_2022[\"Conso_hc\"].sum()\n",
    "\n",
    "# Créez un barplot qui compare les deux années\n",
    "plt.figure(figsize=(10,7))\n",
    "plt.bar([\"2021\", \"2022\"], [cons_2021, cons_2022])\n",
    "plt.ylabel(\"Consommation totale (kWh)\")\n",
    "plt.title(\"Comparaison de la consommation totale entre 2021 et 2022\", fontweight=\"bold\")\n",
    "plt.show()\n",
    "\n",
    "#On peut remarquer que la consommation n'a cessé d'augmenter en 2022 malgrès \"la sobriété demandée par l'état\". "
   ]
  },
  {
   "cell_type": "code",
   "execution_count": null,
   "id": "a08d5309",
   "metadata": {},
   "outputs": [],
   "source": []
  }
 ],
 "metadata": {
  "kernelspec": {
   "display_name": "Python 3 (ipykernel)",
   "language": "python",
   "name": "python3"
  },
  "language_info": {
   "codemirror_mode": {
    "name": "ipython",
    "version": 3
   },
   "file_extension": ".py",
   "mimetype": "text/x-python",
   "name": "python",
   "nbconvert_exporter": "python",
   "pygments_lexer": "ipython3",
   "version": "3.9.13"
  }
 },
 "nbformat": 4,
 "nbformat_minor": 5
}
